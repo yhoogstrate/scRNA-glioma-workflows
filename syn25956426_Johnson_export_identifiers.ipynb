{
 "cells": [
  {
   "cell_type": "code",
   "execution_count": 14,
   "id": "38b64d74",
   "metadata": {},
   "outputs": [
    {
     "name": "stderr",
     "output_type": "stream",
     "text": [
      "100%|███████████████████████████████████████████████████████████████████████████████████████████████████████████████████████████████████████████████████████████████████| 55284/55284 [00:00<00:00, 1830032.30it/s]\n"
     ]
    }
   ],
   "source": [
    "from tqdm import tqdm\n",
    "import scanpy as sc\n",
    "\n",
    "path = \"data/syn25956426_Johnson/processed_data/analysis_scRNAseq_tumor_counts.h5ad\"\n",
    "h5 = sc.read_h5ad(path)\n",
    "\n",
    "with open(\"cache/syn25956426_Johnson_cell_identifiers.txt\",\"w\") as fh:\n",
    "    fh.write(\"umi\\n\")\n",
    "    for _ in tqdm(h5.obs_names):\n",
    "        fh.write(str(_)+\"\\n\")"
   ]
  }
 ],
 "metadata": {
  "kernelspec": {
   "display_name": "Python 3 (ipykernel)",
   "language": "python",
   "name": "python3"
  },
  "language_info": {
   "codemirror_mode": {
    "name": "ipython",
    "version": 3
   },
   "file_extension": ".py",
   "mimetype": "text/x-python",
   "name": "python",
   "nbconvert_exporter": "python",
   "pygments_lexer": "ipython3",
   "version": "3.9.7"
  }
 },
 "nbformat": 4,
 "nbformat_minor": 5
}
